{
 "cells": [
  {
   "cell_type": "markdown",
   "id": "3b24fc12",
   "metadata": {},
   "source": [
    "# 🦠 COVID-19 Global Data Tracker\n",
    "\n",
    "This notebook tracks and analyzes COVID-19 trends across selected countries using real-world data from [Our World in Data](https://ourworldindata.org/coronavirus)."
   ]
  },
  {
   "cell_type": "code",
   "execution_count": null,
   "id": "127bc849",
   "metadata": {},
   "outputs": [],
   "source": [
    "# 📦 1. Import Libraries\n",
    "import pandas as pd\n",
    "import matplotlib.pyplot as plt\n",
    "import seaborn as sns\n",
    "import plotly.express as px\n",
    "\n",
    "# Optional: improve plot style\n",
    "sns.set(style=\"whitegrid\")\n",
    "plt.rcParams['figure.figsize'] = (12, 6)"
   ]
  },
  {
   "cell_type": "code",
   "execution_count": null,
   "id": "8932f91c",
   "metadata": {},
   "outputs": [],
   "source": [
    "# 📥 2. Load Dataset\n",
    "# Make sure owid-covid-data.csv is in your working directory\n",
    "df = pd.read_csv(\"owid-covid-data.csv\")\n",
    "\n",
    "# Preview data\n",
    "print(\"Columns:\", df.columns.tolist())\n",
    "print(df.head())\n",
    "\n",
    "# Check missing values\n",
    "print(df.isnull().sum())"
   ]
  },
  {
   "cell_type": "code",
   "execution_count": null,
   "id": "9e06d491",
   "metadata": {},
   "outputs": [],
   "source": [
    "# 🧹 3. Data Cleaning\n",
    "# Filter for selected countries\n",
    "countries = ['Kenya', 'United States', 'India']\n",
    "df = df[df['location'].isin(countries)]\n",
    "\n",
    "# Drop rows with missing critical values\n",
    "df = df.dropna(subset=['date', 'total_cases', 'total_deaths'])\n",
    "\n",
    "# Convert date to datetime\n",
    "df['date'] = pd.to_datetime(df['date'])\n",
    "\n",
    "# Fill missing numeric values with 0\n",
    "numeric_cols = ['new_cases', 'new_deaths', 'total_vaccinations']\n",
    "df[numeric_cols] = df[numeric_cols].fillna(0)\n",
    "\n",
    "# Optional: sort values for time-series plots\n",
    "df = df.sort_values(['location', 'date'])"
   ]
  },
  {
   "cell_type": "code",
   "execution_count": null,
   "id": "69c067fb",
   "metadata": {},
   "outputs": [],
   "source": [
    "# 📊 4. EDA - Total Cases Over Time\n",
    "plt.figure()\n",
    "for country in countries:\n",
    "    data = df[df['location'] == country]\n",
    "    plt.plot(data['date'], data['total_cases'], label=country)\n",
    "\n",
    "plt.title(\"Total COVID-19 Cases Over Time\")\n",
    "plt.xlabel(\"Date\")\n",
    "plt.ylabel(\"Total Cases\")\n",
    "plt.legend()\n",
    "plt.tight_layout()\n",
    "plt.show()"
   ]
  },
  {
   "cell_type": "code",
   "execution_count": null,
   "id": "b5e3722c",
   "metadata": {},
   "outputs": [],
   "source": [
    "# 📊 EDA - Total Deaths Over Time\n",
    "plt.figure()\n",
    "for country in countries:\n",
    "    data = df[df['location'] == country]\n",
    "    plt.plot(data['date'], data['total_deaths'], label=country)\n",
    "\n",
    "plt.title(\"Total COVID-19 Deaths Over Time\")\n",
    "plt.xlabel(\"Date\")\n",
    "plt.ylabel(\"Total Deaths\")\n",
    "plt.legend()\n",
    "plt.tight_layout()\n",
    "plt.show()"
   ]
  },
  {
   "cell_type": "code",
   "execution_count": null,
   "id": "4cdc2c9c",
   "metadata": {},
   "outputs": [],
   "source": [
    "# 📊 EDA - New Daily Cases\n",
    "plt.figure()\n",
    "for country in countries:\n",
    "    data = df[df['location'] == country]\n",
    "    plt.plot(data['date'], data['new_cases'], label=country)\n",
    "\n",
    "plt.title(\"New Daily COVID-19 Cases\")\n",
    "plt.xlabel(\"Date\")\n",
    "plt.ylabel(\"New Cases\")\n",
    "plt.legend()\n",
    "plt.tight_layout()\n",
    "plt.show()"
   ]
  },
  {
   "cell_type": "code",
   "execution_count": null,
   "id": "210ef1c2",
   "metadata": {},
   "outputs": [],
   "source": [
    "# 📊 EDA - Death Rate = total_deaths / total_cases\n",
    "df['death_rate'] = df['total_deaths'] / df['total_cases']\n",
    "\n",
    "plt.figure()\n",
    "for country in countries:\n",
    "    data = df[df['location'] == country]\n",
    "    plt.plot(data['date'], data['death_rate'], label=country)\n",
    "\n",
    "plt.title(\"COVID-19 Death Rate Over Time\")\n",
    "plt.xlabel(\"Date\")\n",
    "plt.ylabel(\"Death Rate\")\n",
    "plt.legend()\n",
    "plt.tight_layout()\n",
    "plt.show()"
   ]
  },
  {
   "cell_type": "code",
   "execution_count": null,
   "id": "aa2e345b",
   "metadata": {},
   "outputs": [],
   "source": [
    "# 💉 5. Vaccination Progress - Total Vaccinations Over Time\n",
    "plt.figure()\n",
    "for country in countries:\n",
    "    data = df[df['location'] == country]\n",
    "    plt.plot(data['date'], data['total_vaccinations'], label=country)\n",
    "\n",
    "plt.title(\"COVID-19 Vaccinations Over Time\")\n",
    "plt.xlabel(\"Date\")\n",
    "plt.ylabel(\"Total Vaccinations\")\n",
    "plt.legend()\n",
    "plt.tight_layout()\n",
    "plt.show()"
   ]
  },
  {
   "cell_type": "code",
   "execution_count": null,
   "id": "87485396",
   "metadata": {},
   "outputs": [],
   "source": [
    "# 🗺️ 6. Optional Choropleth Map\n",
    "# Get latest data per country\n",
    "latest_date = df['date'].max()\n",
    "latest_data = df[df['date'] == latest_date][['iso_code', 'location', 'total_cases']]\n",
    "\n",
    "# Plot with Plotly Express\n",
    "fig = px.choropleth(latest_data,\n",
    "                    locations=\"iso_code\",\n",
    "                    color=\"total_cases\",\n",
    "                    hover_name=\"location\",\n",
    "                    color_continuous_scale=\"Reds\",\n",
    "                    title=f\"Total COVID-19 Cases by Country (as of {latest_date.date()})\")\n",
    "fig.show()"
   ]
  },
  {
   "cell_type": "markdown",
   "id": "62637f87",
   "metadata": {},
   "source": [
    "# 📝 7. Insights\n",
    "\n",
    "## Key Insights:\n",
    "\n",
    "1. India had the highest total cases among the three countries by mid-2022.\n",
    "2. The United States had a faster and broader vaccine rollout compared to Kenya.\n",
    "3. Kenya's data showed slower case growth but a steeper rise in vaccinations later on.\n",
    "4. The death rate in India spiked significantly during mid-2021.\n",
    "5. Vaccination trends improved globally after Q2 2021.\n",
    "\n",
    "## Observations:\n",
    "\n",
    "- Data gaps in early periods (e.g., underreporting) can affect trends.\n",
    "- Policies (lockdowns, vaccine access) directly influence the trends."
   ]
  },
  {
   "cell_type": "markdown",
   "id": "947a3cac",
   "metadata": {},
   "source": [
    "## 📦 Optional: Save as PDF or HTML\n",
    "In Jupyter:\n",
    "- File → Export Notebook As → PDF/HTML\n",
    "- OR use `nbconvert`:\n",
    "```bash\n",
    "jupyter nbconvert covid_tracker.ipynb --to pdf\n",
    "```"
   ]
  }
 ],
 "metadata": {},
 "nbformat": 4,
 "nbformat_minor": 5
}
